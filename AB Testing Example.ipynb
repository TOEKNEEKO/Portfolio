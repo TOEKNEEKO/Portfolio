{
 "cells": [
  {
   "cell_type": "markdown",
   "id": "a779b7cc-e069-4892-8166-5f78a86c7401",
   "metadata": {},
   "source": [
    "<center><h1 style=\"background-color:white; color:blue; font-size:40px; font-weight:bold; font-family:Times New Roman;\" >Tony Kao A/B Testing Example</h1></center>"
   ]
  },
  {
   "cell_type": "markdown",
   "id": "6yDxo9u0d9Na",
   "metadata": {
    "id": "6yDxo9u0d9Na"
   },
   "source": [
    "# Business Statistics: E-news Express"
   ]
  },
  {
   "cell_type": "markdown",
   "id": "SrLd-ICEmPSD",
   "metadata": {
    "id": "SrLd-ICEmPSD"
   },
   "source": [
    "## Define Problem Statement and Objectives"
   ]
  },
  {
   "cell_type": "markdown",
   "id": "9Vt1PLLqmXNn",
   "metadata": {
    "id": "9Vt1PLLqmXNn"
   },
   "source": [
    "Objective and Problem Statement: As a Data Scientist for E-News Express, conduct A/B testing on the landing page. Determine which landing page, existing (Control) vs new (Treatment) leads to higher rate of subscriptions by randomly sampling 100 users and dividing them into two equally sized groups. Explore the data and perform a statistical analysis (at a significance level of 5%) to determine the effectiveness of the new landing page in gathering new subscribers for the news portal.\n",
    "\n",
    "Determine:\n",
    "\n",
    "\n",
    "1. Do the users spend more time on the new landing page than on the existing landing page?\n",
    "2. Is the conversion rate (the proportion of users who visit the landing page and get converted) for the new page greater than the conversion rate for the old page?\n",
    "3. Does the converted status depend on the preferred language?\n",
    "4. Is the time spent on the new page the same for the different language users?\n"
   ]
  },
  {
   "cell_type": "markdown",
   "id": "a9ff070a-dbdc-4af0-b8ad-9c9d04380c71",
   "metadata": {},
   "source": [
    "### Data Dictionary"
   ]
  },
  {
   "cell_type": "markdown",
   "id": "518678bf-ed50-44ab-a680-3d7cdea7b985",
   "metadata": {},
   "source": [
    "The data contains information regarding the interaction of users in both groups with the two versions of the landing page.\n",
    "\n",
    "    user_id - Unique user ID of the person visiting the website\n",
    "    group - Whether the user belongs to the first group (control) or the second group (treatment)\n",
    "    landing_page - Whether the landing page is new or old\n",
    "    time_spent_on_the_page - Time (in minutes) spent by the user on the landing page\n",
    "    converted - Whether the user gets converted to a subscriber of the news portal or not\n",
    "    language_preferred - Language chosen by the user to view the landing page\n"
   ]
  },
  {
   "cell_type": "markdown",
   "id": "a6a3d218",
   "metadata": {
    "id": "a6a3d218",
    "tags": []
   },
   "source": [
    "### Import all the necessary libraries"
   ]
  },
  {
   "cell_type": "code",
   "execution_count": 1,
   "id": "658c5dec",
   "metadata": {
    "id": "658c5dec"
   },
   "outputs": [],
   "source": [
    "# Import needed libraries\n",
    "\n",
    "%load_ext lab_black\n",
    "\n",
    "import numpy as np\n",
    "import pandas as pd\n",
    "from matplotlib import pyplot as plt\n",
    "import seaborn as sns"
   ]
  },
  {
   "cell_type": "markdown",
   "id": "6970dd99",
   "metadata": {
    "id": "6970dd99"
   },
   "source": [
    "### Data Overview"
   ]
  },
  {
   "cell_type": "code",
   "execution_count": 2,
   "id": "d3b95640",
   "metadata": {
    "id": "d3b95640"
   },
   "outputs": [],
   "source": [
    "# Read from CSV\n",
    "df = pd.read_csv(\"abtest.csv\")"
   ]
  },
  {
   "cell_type": "code",
   "execution_count": 3,
   "id": "e1ad11d4",
   "metadata": {
    "id": "e1ad11d4"
   },
   "outputs": [
    {
     "data": {
      "text/html": [
       "<div>\n",
       "<style scoped>\n",
       "    .dataframe tbody tr th:only-of-type {\n",
       "        vertical-align: middle;\n",
       "    }\n",
       "\n",
       "    .dataframe tbody tr th {\n",
       "        vertical-align: top;\n",
       "    }\n",
       "\n",
       "    .dataframe thead th {\n",
       "        text-align: right;\n",
       "    }\n",
       "</style>\n",
       "<table border=\"1\" class=\"dataframe\">\n",
       "  <thead>\n",
       "    <tr style=\"text-align: right;\">\n",
       "      <th></th>\n",
       "      <th>user_id</th>\n",
       "      <th>group</th>\n",
       "      <th>landing_page</th>\n",
       "      <th>time_spent_on_the_page</th>\n",
       "      <th>converted</th>\n",
       "      <th>language_preferred</th>\n",
       "    </tr>\n",
       "  </thead>\n",
       "  <tbody>\n",
       "    <tr>\n",
       "      <th>0</th>\n",
       "      <td>546592</td>\n",
       "      <td>control</td>\n",
       "      <td>old</td>\n",
       "      <td>3.48</td>\n",
       "      <td>no</td>\n",
       "      <td>Spanish</td>\n",
       "    </tr>\n",
       "    <tr>\n",
       "      <th>1</th>\n",
       "      <td>546468</td>\n",
       "      <td>treatment</td>\n",
       "      <td>new</td>\n",
       "      <td>7.13</td>\n",
       "      <td>yes</td>\n",
       "      <td>English</td>\n",
       "    </tr>\n",
       "    <tr>\n",
       "      <th>2</th>\n",
       "      <td>546462</td>\n",
       "      <td>treatment</td>\n",
       "      <td>new</td>\n",
       "      <td>4.40</td>\n",
       "      <td>no</td>\n",
       "      <td>Spanish</td>\n",
       "    </tr>\n",
       "    <tr>\n",
       "      <th>3</th>\n",
       "      <td>546567</td>\n",
       "      <td>control</td>\n",
       "      <td>old</td>\n",
       "      <td>3.02</td>\n",
       "      <td>no</td>\n",
       "      <td>French</td>\n",
       "    </tr>\n",
       "    <tr>\n",
       "      <th>4</th>\n",
       "      <td>546459</td>\n",
       "      <td>treatment</td>\n",
       "      <td>new</td>\n",
       "      <td>4.75</td>\n",
       "      <td>yes</td>\n",
       "      <td>Spanish</td>\n",
       "    </tr>\n",
       "  </tbody>\n",
       "</table>\n",
       "</div>"
      ],
      "text/plain": [
       "   user_id      group landing_page  time_spent_on_the_page converted  \\\n",
       "0   546592    control          old                    3.48        no   \n",
       "1   546468  treatment          new                    7.13       yes   \n",
       "2   546462  treatment          new                    4.40        no   \n",
       "3   546567    control          old                    3.02        no   \n",
       "4   546459  treatment          new                    4.75       yes   \n",
       "\n",
       "  language_preferred  \n",
       "0            Spanish  \n",
       "1            English  \n",
       "2            Spanish  \n",
       "3             French  \n",
       "4            Spanish  "
      ]
     },
     "execution_count": 3,
     "metadata": {},
     "output_type": "execute_result"
    }
   ],
   "source": [
    "# First 5 rows\n",
    "df.head()"
   ]
  },
  {
   "cell_type": "code",
   "execution_count": 4,
   "id": "edc5efe4-d4c8-43c0-b3d8-0365681360fb",
   "metadata": {},
   "outputs": [
    {
     "data": {
      "text/html": [
       "<div>\n",
       "<style scoped>\n",
       "    .dataframe tbody tr th:only-of-type {\n",
       "        vertical-align: middle;\n",
       "    }\n",
       "\n",
       "    .dataframe tbody tr th {\n",
       "        vertical-align: top;\n",
       "    }\n",
       "\n",
       "    .dataframe thead th {\n",
       "        text-align: right;\n",
       "    }\n",
       "</style>\n",
       "<table border=\"1\" class=\"dataframe\">\n",
       "  <thead>\n",
       "    <tr style=\"text-align: right;\">\n",
       "      <th></th>\n",
       "      <th>user_id</th>\n",
       "      <th>group</th>\n",
       "      <th>landing_page</th>\n",
       "      <th>time_spent_on_the_page</th>\n",
       "      <th>converted</th>\n",
       "      <th>language_preferred</th>\n",
       "    </tr>\n",
       "  </thead>\n",
       "  <tbody>\n",
       "    <tr>\n",
       "      <th>95</th>\n",
       "      <td>546446</td>\n",
       "      <td>treatment</td>\n",
       "      <td>new</td>\n",
       "      <td>5.15</td>\n",
       "      <td>no</td>\n",
       "      <td>Spanish</td>\n",
       "    </tr>\n",
       "    <tr>\n",
       "      <th>96</th>\n",
       "      <td>546544</td>\n",
       "      <td>control</td>\n",
       "      <td>old</td>\n",
       "      <td>6.52</td>\n",
       "      <td>yes</td>\n",
       "      <td>English</td>\n",
       "    </tr>\n",
       "    <tr>\n",
       "      <th>97</th>\n",
       "      <td>546472</td>\n",
       "      <td>treatment</td>\n",
       "      <td>new</td>\n",
       "      <td>7.07</td>\n",
       "      <td>yes</td>\n",
       "      <td>Spanish</td>\n",
       "    </tr>\n",
       "    <tr>\n",
       "      <th>98</th>\n",
       "      <td>546481</td>\n",
       "      <td>treatment</td>\n",
       "      <td>new</td>\n",
       "      <td>6.20</td>\n",
       "      <td>yes</td>\n",
       "      <td>Spanish</td>\n",
       "    </tr>\n",
       "    <tr>\n",
       "      <th>99</th>\n",
       "      <td>546483</td>\n",
       "      <td>treatment</td>\n",
       "      <td>new</td>\n",
       "      <td>5.86</td>\n",
       "      <td>yes</td>\n",
       "      <td>English</td>\n",
       "    </tr>\n",
       "  </tbody>\n",
       "</table>\n",
       "</div>"
      ],
      "text/plain": [
       "    user_id      group landing_page  time_spent_on_the_page converted  \\\n",
       "95   546446  treatment          new                    5.15        no   \n",
       "96   546544    control          old                    6.52       yes   \n",
       "97   546472  treatment          new                    7.07       yes   \n",
       "98   546481  treatment          new                    6.20       yes   \n",
       "99   546483  treatment          new                    5.86       yes   \n",
       "\n",
       "   language_preferred  \n",
       "95            Spanish  \n",
       "96            English  \n",
       "97            Spanish  \n",
       "98            Spanish  \n",
       "99            English  "
      ]
     },
     "execution_count": 4,
     "metadata": {},
     "output_type": "execute_result"
    }
   ],
   "source": [
    "# Last 5 rows\n",
    "df.tail()"
   ]
  },
  {
   "cell_type": "code",
   "execution_count": 5,
   "id": "49236186-edd5-45de-93c8-2f92f481815f",
   "metadata": {},
   "outputs": [
    {
     "name": "stdout",
     "output_type": "stream",
     "text": [
      "<class 'pandas.core.frame.DataFrame'>\n",
      "RangeIndex: 100 entries, 0 to 99\n",
      "Data columns (total 6 columns):\n",
      " #   Column                  Non-Null Count  Dtype  \n",
      "---  ------                  --------------  -----  \n",
      " 0   user_id                 100 non-null    int64  \n",
      " 1   group                   100 non-null    object \n",
      " 2   landing_page            100 non-null    object \n",
      " 3   time_spent_on_the_page  100 non-null    float64\n",
      " 4   converted               100 non-null    object \n",
      " 5   language_preferred      100 non-null    object \n",
      "dtypes: float64(1), int64(1), object(4)\n",
      "memory usage: 4.8+ KB\n"
     ]
    }
   ],
   "source": [
    "# Data info\n",
    "df.info()"
   ]
  },
  {
   "cell_type": "code",
   "execution_count": 6,
   "id": "13d45675-a080-47d4-af1a-1b5d56eee824",
   "metadata": {},
   "outputs": [
    {
     "data": {
      "text/html": [
       "<div>\n",
       "<style scoped>\n",
       "    .dataframe tbody tr th:only-of-type {\n",
       "        vertical-align: middle;\n",
       "    }\n",
       "\n",
       "    .dataframe tbody tr th {\n",
       "        vertical-align: top;\n",
       "    }\n",
       "\n",
       "    .dataframe thead th {\n",
       "        text-align: right;\n",
       "    }\n",
       "</style>\n",
       "<table border=\"1\" class=\"dataframe\">\n",
       "  <thead>\n",
       "    <tr style=\"text-align: right;\">\n",
       "      <th></th>\n",
       "      <th>count</th>\n",
       "      <th>mean</th>\n",
       "      <th>std</th>\n",
       "      <th>min</th>\n",
       "      <th>25%</th>\n",
       "      <th>50%</th>\n",
       "      <th>75%</th>\n",
       "      <th>max</th>\n",
       "    </tr>\n",
       "  </thead>\n",
       "  <tbody>\n",
       "    <tr>\n",
       "      <th>user_id</th>\n",
       "      <td>100.0</td>\n",
       "      <td>546517.0000</td>\n",
       "      <td>52.295779</td>\n",
       "      <td>546443.00</td>\n",
       "      <td>546467.75</td>\n",
       "      <td>546492.500</td>\n",
       "      <td>546567.2500</td>\n",
       "      <td>546592.00</td>\n",
       "    </tr>\n",
       "    <tr>\n",
       "      <th>time_spent_on_the_page</th>\n",
       "      <td>100.0</td>\n",
       "      <td>5.3778</td>\n",
       "      <td>2.378166</td>\n",
       "      <td>0.19</td>\n",
       "      <td>3.88</td>\n",
       "      <td>5.415</td>\n",
       "      <td>7.0225</td>\n",
       "      <td>10.71</td>\n",
       "    </tr>\n",
       "  </tbody>\n",
       "</table>\n",
       "</div>"
      ],
      "text/plain": [
       "                        count         mean        std        min        25%  \\\n",
       "user_id                 100.0  546517.0000  52.295779  546443.00  546467.75   \n",
       "time_spent_on_the_page  100.0       5.3778   2.378166       0.19       3.88   \n",
       "\n",
       "                               50%          75%        max  \n",
       "user_id                 546492.500  546567.2500  546592.00  \n",
       "time_spent_on_the_page       5.415       7.0225      10.71  "
      ]
     },
     "execution_count": 6,
     "metadata": {},
     "output_type": "execute_result"
    }
   ],
   "source": [
    "# Statistical summary of the data\n",
    "df.describe().T"
   ]
  },
  {
   "cell_type": "code",
   "execution_count": 7,
   "id": "9f4d79e9-ad1c-4f35-8af7-739ca264cc49",
   "metadata": {},
   "outputs": [
    {
     "data": {
      "text/plain": [
       "user_id                   0\n",
       "group                     0\n",
       "landing_page              0\n",
       "time_spent_on_the_page    0\n",
       "converted                 0\n",
       "language_preferred        0\n",
       "dtype: int64"
      ]
     },
     "execution_count": 7,
     "metadata": {},
     "output_type": "execute_result"
    }
   ],
   "source": [
    "# Check for missing values\n",
    "df.isnull().sum()"
   ]
  },
  {
   "cell_type": "code",
   "execution_count": 8,
   "id": "dbd89090-dcaa-4fa5-94d5-a76a0672b1a7",
   "metadata": {},
   "outputs": [
    {
     "data": {
      "text/html": [
       "<div>\n",
       "<style scoped>\n",
       "    .dataframe tbody tr th:only-of-type {\n",
       "        vertical-align: middle;\n",
       "    }\n",
       "\n",
       "    .dataframe tbody tr th {\n",
       "        vertical-align: top;\n",
       "    }\n",
       "\n",
       "    .dataframe thead th {\n",
       "        text-align: right;\n",
       "    }\n",
       "</style>\n",
       "<table border=\"1\" class=\"dataframe\">\n",
       "  <thead>\n",
       "    <tr style=\"text-align: right;\">\n",
       "      <th></th>\n",
       "      <th>user_id</th>\n",
       "      <th>group</th>\n",
       "      <th>landing_page</th>\n",
       "      <th>time_spent_on_the_page</th>\n",
       "      <th>converted</th>\n",
       "      <th>language_preferred</th>\n",
       "    </tr>\n",
       "  </thead>\n",
       "  <tbody>\n",
       "  </tbody>\n",
       "</table>\n",
       "</div>"
      ],
      "text/plain": [
       "Empty DataFrame\n",
       "Columns: [user_id, group, landing_page, time_spent_on_the_page, converted, language_preferred]\n",
       "Index: []"
      ]
     },
     "execution_count": 8,
     "metadata": {},
     "output_type": "execute_result"
    }
   ],
   "source": [
    "# Check for duplicated values\n",
    "df[df.duplicated()]"
   ]
  },
  {
   "cell_type": "markdown",
   "id": "5139fc43-db58-4be5-b7fe-f2808fc666dd",
   "metadata": {},
   "source": [
    "**Data Overview Summary:** Overall data is as expected. User_ID is not relevant to the analysis, so we'll need to exclude this moving forward. Luckily this dataset does not have any missing values or duplicated values, but if it did, we would need to make assumptions and fill with median values, or some other approach."
   ]
  },
  {
   "cell_type": "markdown",
   "id": "468cb7c4-4b23-4fb4-a275-3416ac0fa383",
   "metadata": {},
   "source": [
    "### Exploratory Data Analysis"
   ]
  },
  {
   "cell_type": "markdown",
   "id": "68f3b2c9",
   "metadata": {
    "id": "68f3b2c9"
   },
   "source": [
    "**Univariate Analysis**"
   ]
  },
  {
   "cell_type": "code",
   "execution_count": 9,
   "id": "0d0a4b9c-3e61-4d9f-ab41-3cfd0f771a73",
   "metadata": {},
   "outputs": [],
   "source": [
    "# Function to create histrogram/boxplots\n",
    "\n",
    "\n",
    "def histogram_boxplot(data, feature, figsize=(15, 10), kde=False, bins=None):\n",
    "    \"\"\"\n",
    "    Boxplot and histogram combined\n",
    "\n",
    "    data: dataframe\n",
    "    feature: dataframe column\n",
    "    figsize: size of figure (default (15,10))\n",
    "    kde: whether to show the density curve (default False)\n",
    "    bins: number of bins for histogram (default None)\n",
    "    \"\"\"\n",
    "    f2, (ax_box2, ax_hist2) = plt.subplots(\n",
    "        nrows=2,  # Number of rows of the subplot grid= 2\n",
    "        sharex=True,  # x-axis will be shared among all subplots\n",
    "        gridspec_kw={\"height_ratios\": (0.25, 0.75)},\n",
    "        figsize=figsize,\n",
    "    )  # creating the 2 subplots\n",
    "    sns.boxplot(\n",
    "        data=data, x=feature, ax=ax_box2, showmeans=True, color=\"violet\"\n",
    "    )  # boxplot will be created and a triangle will indicate the mean value of the column\n",
    "    sns.histplot(\n",
    "        data=data, x=feature, kde=kde, ax=ax_hist2, bins=bins\n",
    "    ) if bins else sns.histplot(\n",
    "        data=data, x=feature, kde=kde, ax=ax_hist2\n",
    "    )  # For histogram\n",
    "    ax_hist2.axvline(\n",
    "        data[feature].mean(), color=\"green\", linestyle=\"--\"\n",
    "    )  # Add mean to the histogram\n",
    "    ax_hist2.axvline(\n",
    "        data[feature].median(), color=\"black\", linestyle=\"-\"\n",
    "    )  # Add median to the histogram"
   ]
  },
  {
   "cell_type": "code",
   "execution_count": 10,
   "id": "db7f6a60-3fb8-4c28-9371-dfcbbbe51a3e",
   "metadata": {},
   "outputs": [],
   "source": [
    "# function to create labeled barplots\n",
    "\n",
    "\n",
    "def labeled_barplot(data, feature, perc=False, n=None):\n",
    "    \"\"\"\n",
    "    Barplot with percentage at the top\n",
    "\n",
    "    data: dataframe\n",
    "    feature: dataframe column\n",
    "    perc: whether to display percentages instead of count (default is False)\n",
    "    n: displays the top n category levels (default is None, i.e., display all levels)\n",
    "    \"\"\"\n",
    "\n",
    "    total = len(data[feature])  # length of the column\n",
    "    count = data[feature].nunique()\n",
    "    if n is None:\n",
    "        plt.figure(figsize=(count + 2, 6))\n",
    "    else:\n",
    "        plt.figure(figsize=(n + 2, 6))\n",
    "\n",
    "    plt.xticks(rotation=90, fontsize=15)\n",
    "    ax = sns.countplot(\n",
    "        data=data,\n",
    "        x=feature,\n",
    "        palette=\"Paired\",\n",
    "        order=data[feature].value_counts().index[:n],\n",
    "    )\n",
    "\n",
    "    for p in ax.patches:\n",
    "        if perc == True:\n",
    "            label = \"{:.1f}%\".format(\n",
    "                100 * p.get_height() / total\n",
    "            )  # percentage of each class of the category\n",
    "        else:\n",
    "            label = p.get_height()  # count of each level of the category\n",
    "\n",
    "        x = p.get_x() + p.get_width() / 2  # width of the plot\n",
    "        y = p.get_height()  # height of the plot\n",
    "\n",
    "        ax.annotate(\n",
    "            label,\n",
    "            (x, y),\n",
    "            ha=\"center\",\n",
    "            va=\"center\",\n",
    "            size=12,\n",
    "            xytext=(0, 5),\n",
    "            textcoords=\"offset points\",\n",
    "        )  # annotate the percentage\n",
    "\n",
    "    plt.show()  # show the plot"
   ]
  },
  {
   "cell_type": "code",
   "execution_count": 11,
   "id": "dccd7dcd-4cb3-4a65-aaad-6a2fed3b6365",
   "metadata": {},
   "outputs": [
    {
     "data": {
      "image/png": "[encoded data removed]",
      "text/plain": [
       "<Figure size 1080x720 with 2 Axes>"
      ]
     },
     "metadata": {
      "needs_background": "light"
     },
     "output_type": "display_data"
    }
   ],
   "source": [
    "# Histogram boxplot of time spent on the page\n",
    "histogram_boxplot(df, \"time_spent_on_the_page\", kde=True)"
   ]
  },
  {
   "cell_type": "markdown",
   "id": "90f0fff8-3e96-44eb-a1ab-457bcd045929",
   "metadata": {},
   "source": [
    "#### We can infer this is normal distribution ####"
   ]
  },
  {
   "cell_type": "markdown",
   "id": "ca104707-614a-4067-a475-72a1a6423313",
   "metadata": {},
   "source": [
    "#### **Preferred Language** "
   ]
  },
  {
   "cell_type": "code",
   "execution_count": 12,
   "id": "b08c731d-27af-40fe-963b-45ba81a2a1a0",
   "metadata": {},
   "outputs": [
    {
     "data": {
      "image/png": "[encoded data removed]",
      "text/plain": [
       "<Figure size 360x432 with 1 Axes>"
      ]
     },
     "metadata": {
      "needs_background": "light"
     },
     "output_type": "display_data"
    }
   ],
   "source": [
    "# Labeled Barplot of preferred language\n",
    "labeled_barplot(df, \"language_preferred\")"
   ]
  },
  {
   "cell_type": "markdown",
   "id": "8e2c37d8-e656-4b71-a81c-b833948d7f90",
   "metadata": {},
   "source": [
    "#### **Converted** "
   ]
  },
  {
   "cell_type": "code",
   "execution_count": 13,
   "id": "25a43548-eca7-4caa-8929-ab164a0cfb04",
   "metadata": {},
   "outputs": [
    {
     "data": {
      "image/png": "[encoded data removed]",
      "text/plain": [
       "<Figure size 288x432 with 1 Axes>"
      ]
     },
     "metadata": {
      "needs_background": "light"
     },
     "output_type": "display_data"
    }
   ],
   "source": [
    "# Labeled barplot of converted - Whether a user gets the new page or not\n",
    "labeled_barplot(df, \"converted\")"
   ]
  },
  {
   "cell_type": "markdown",
   "id": "fad2de2f",
   "metadata": {
    "id": "fad2de2f"
   },
   "source": [
    "**Bivariate Analysis**"
   ]
  },
  {
   "cell_type": "code",
   "execution_count": 14,
   "id": "ed5e18d5-d156-4223-9a72-07760c147c90",
   "metadata": {},
   "outputs": [],
   "source": [
    "# function to plot distributions wrt target\n",
    "\n",
    "\n",
    "def distribution_plot_wrt_target(data, predictor, target):\n",
    "    fig, axs = plt.subplots(2, 2, figsize=(12, 10))\n",
    "\n",
    "    target_uniq = data[target].unique()\n",
    "\n",
    "    axs[0, 0].set_title(\"Distribution of target for target=\" + str(target_uniq[0]))\n",
    "    sns.histplot(\n",
    "        data=data[data[target] == target_uniq[0]],\n",
    "        x=predictor,\n",
    "        kde=True,\n",
    "        ax=axs[0, 0],\n",
    "        color=\"teal\",\n",
    "        stat=\"density\",\n",
    "    )\n",
    "\n",
    "    axs[0, 1].set_title(\"Distribution of target for target=\" + str(target_uniq[1]))\n",
    "    sns.histplot(\n",
    "        data=data[data[target] == target_uniq[1]],\n",
    "        x=predictor,\n",
    "        kde=True,\n",
    "        ax=axs[0, 1],\n",
    "        color=\"orange\",\n",
    "        stat=\"density\",\n",
    "    )\n",
    "\n",
    "    axs[1, 0].set_title(\"Boxplot w.r.t target\")\n",
    "    sns.boxplot(data=data, x=target, y=predictor, ax=axs[1, 0], palette=\"gist_rainbow\")\n",
    "\n",
    "    axs[1, 1].set_title(\"Boxplot (without outliers) w.r.t target\")\n",
    "    sns.boxplot(\n",
    "        data=data,\n",
    "        x=target,\n",
    "        y=predictor,\n",
    "        ax=axs[1, 1],\n",
    "        showfliers=False,\n",
    "        palette=\"gist_rainbow\",\n",
    "    )\n",
    "\n",
    "    plt.tight_layout()\n",
    "    plt.show()"
   ]
  },
  {
   "cell_type": "code",
   "execution_count": 15,
   "id": "e02d5a08-51c4-4260-8b80-1cfc5f165e06",
   "metadata": {},
   "outputs": [],
   "source": [
    "# Function to create a stocked barplot\n",
    "\n",
    "\n",
    "def stacked_barplot(data, predictor, target):\n",
    "    \"\"\"\n",
    "    Print the category counts and plot a stacked bar chart\n",
    "\n",
    "    data: dataframe\n",
    "    predictor: independent variable\n",
    "    target: target variable\n",
    "    \"\"\"\n",
    "    count = data[predictor].nunique()\n",
    "    sorter = data[target].value_counts().index[-1]\n",
    "    tab1 = pd.crosstab(data[predictor], data[target], margins=True).sort_values(\n",
    "        by=sorter, ascending=False\n",
    "    )\n",
    "    print(tab1)\n",
    "    print(\"-\" * 120)\n",
    "    tab = pd.crosstab(data[predictor], data[target], normalize=\"index\").sort_values(\n",
    "        by=sorter, ascending=False\n",
    "    )\n",
    "    tab.plot(kind=\"bar\", stacked=True, figsize=(count + 5, 5))\n",
    "    plt.legend(\n",
    "        loc=\"lower left\",\n",
    "        frameon=False,\n",
    "    )\n",
    "    plt.legend(loc=\"upper left\", bbox_to_anchor=(1, 1))\n",
    "    plt.show()"
   ]
  },
  {
   "cell_type": "code",
   "execution_count": 16,
   "id": "32fcf975-3556-4dcf-95a9-834e7d28da8d",
   "metadata": {},
   "outputs": [
    {
     "data": {
      "image/png": "[encoded data removed]",
      "text/plain": [
       "<Figure size 864x720 with 4 Axes>"
      ]
     },
     "metadata": {
      "needs_background": "light"
     },
     "output_type": "display_data"
    }
   ],
   "source": [
    "# Distributions of time spent on the page for old, and new pages, as well as distributions\n",
    "distribution_plot_wrt_target(df, \"time_spent_on_the_page\", \"landing_page\")"
   ]
  },
  {
   "cell_type": "code",
   "execution_count": 17,
   "id": "7c47b6bd-2f59-4f4c-9580-050b15c15915",
   "metadata": {},
   "outputs": [
    {
     "name": "stdout",
     "output_type": "stream",
     "text": [
      "converted           no  yes  All\n",
      "language_preferred              \n",
      "All                 46   54  100\n",
      "French              19   15   34\n",
      "Spanish             16   18   34\n",
      "English             11   21   32\n",
      "------------------------------------------------------------------------------------------------------------------------\n"
     ]
    },
    {
     "data": {
      "image/png": "[encoded data removed]",
      "text/plain": [
       "<Figure size 576x360 with 1 Axes>"
      ]
     },
     "metadata": {
      "needs_background": "light"
     },
     "output_type": "display_data"
    }
   ],
   "source": [
    "# Stacked barplot of preferred language vs converted\n",
    "stacked_barplot(df, \"language_preferred\", \"converted\")"
   ]
  },
  {
   "cell_type": "code",
   "execution_count": 18,
   "id": "e13693f6-8536-491d-aab3-f56f51b0ffaf",
   "metadata": {},
   "outputs": [
    {
     "data": {
      "image/png": "[encoded data removed]",
      "text/plain": [
       "<Figure size 720x432 with 1 Axes>"
      ]
     },
     "metadata": {
      "needs_background": "light"
     },
     "output_type": "display_data"
    }
   ],
   "source": [
    "# Box plots of preferred language and time on the page.\n",
    "plt.figure(figsize=(10, 6))\n",
    "sns.boxplot(data=df, y=\"time_spent_on_the_page\", x=\"language_preferred\")\n",
    "plt.show()"
   ]
  },
  {
   "cell_type": "markdown",
   "id": "27906576",
   "metadata": {
    "id": "27906576"
   },
   "source": [
    "### **Q1.** Do the users spend more time on the new landing page than the existing landing page?"
   ]
  },
  {
   "cell_type": "code",
   "execution_count": 19,
   "id": "4331916c-c998-4927-b137-8d37e00e2200",
   "metadata": {},
   "outputs": [
    {
     "data": {
      "image/png": "[encoded data removed]",
      "text/plain": [
       "<Figure size 720x432 with 1 Axes>"
      ]
     },
     "metadata": {
      "needs_background": "light"
     },
     "output_type": "display_data"
    }
   ],
   "source": [
    "# Box plots of preferred language and time on the page.\n",
    "plt.figure(figsize=(10, 6))\n",
    "sns.boxplot(data=df, y=\"time_spent_on_the_page\", x=\"landing_page\")\n",
    "plt.show()"
   ]
  },
  {
   "cell_type": "markdown",
   "id": "d2ac77ef",
   "metadata": {
    "id": "d2ac77ef"
   },
   "source": [
    "$H_0$: The null hypothesis is that the mean time spent on the new page, represented as $\\mu_1$ is the same as the mean time spend on the old page, represented as $\\mu_2$\n",
    "<center>$H_0$ : $\\mu_1$  =  $\\mu_2$</center>\n",
    "\n",
    "\n",
    "$H_a$: The alternate hypothesis is that the mean time spent on the new page, represented as $\\mu_1$ is less than the mean time spend on the old page, represented as $\\mu_2$\n",
    "<center>$H_a$ : $\\mu_1$ $\\gt$ $\\mu_2$</center>"
   ]
  },
  {
   "cell_type": "markdown",
   "id": "2c183cd7",
   "metadata": {
    "id": "2c183cd7"
   },
   "source": [
    "Knowns:\n",
    "* Univariate\n",
    "* Continous and Normal\n",
    "* 2 Samples (Independent)\n",
    "* Unknown Variance\n",
    "\n",
    "We can use a **2-Sample T-Test**"
   ]
  },
  {
   "cell_type": "markdown",
   "id": "92d7d7ee",
   "metadata": {
    "id": "92d7d7ee"
   },
   "source": [
    "For this question, we use a level of significance of 5%"
   ]
  },
  {
   "cell_type": "code",
   "execution_count": 20,
   "id": "f5a59495",
   "metadata": {
    "id": "f5a59495"
   },
   "outputs": [
    {
     "name": "stdout",
     "output_type": "stream",
     "text": [
      "New page Standard Deviation: 1.82\n",
      "Old page Standard Deviation: 2.58\n"
     ]
    }
   ],
   "source": [
    "# Create two subsets of data based on landing page to determine standard deviation\n",
    "time_spent_new = df[df[\"landing_page\"] == \"new\"]\n",
    "time_spent_old = df[df[\"landing_page\"] == \"old\"]\n",
    "\n",
    "print(\n",
    "    \"New page Standard Deviation:\",\n",
    "    round(time_spent_new[\"time_spent_on_the_page\"].std(), 2),\n",
    ")\n",
    "print(\n",
    "    \"Old page Standard Deviation:\",\n",
    "    round(time_spent_old[\"time_spent_on_the_page\"].std(), 2),\n",
    ")"
   ]
  },
  {
   "cell_type": "markdown",
   "id": "d25e0abd-6d68-4322-86c2-5683e6182902",
   "metadata": {},
   "source": [
    "**Observation:** The sample standard deviations are not close to being equal, therefore we cannot assume the population standard deviation is equal"
   ]
  },
  {
   "cell_type": "code",
   "execution_count": 21,
   "id": "fac8594a",
   "metadata": {
    "id": "fac8594a"
   },
   "outputs": [
    {
     "name": "stdout",
     "output_type": "stream",
     "text": [
      "p-value: 0.00013923812251665497\n"
     ]
    }
   ],
   "source": [
    "# Calculate the P-Value\n",
    "from scipy.stats import ttest_ind\n",
    "\n",
    "test_stat, p_value = ttest_ind(\n",
    "    time_spent_new[\"time_spent_on_the_page\"],\n",
    "    time_spent_old[\"time_spent_on_the_page\"],\n",
    "    equal_var=False,\n",
    "    alternative=\"greater\",\n",
    ")\n",
    "\n",
    "print(\"p-value:\", p_value)"
   ]
  },
  {
   "cell_type": "markdown",
   "id": "6b16dd4b",
   "metadata": {
    "id": "6b16dd4b"
   },
   "source": [
    "**Observation:** As the p-value (~0.00013) is less than the level of significance, we can **reject** the null hypothesis. Hence, we do have enough evidence to support the claim that the time spent on the new landing page is greater than the time spent on the old landing page."
   ]
  },
  {
   "cell_type": "markdown",
   "id": "353e9d24",
   "metadata": {
    "id": "353e9d24"
   },
   "source": [
    "### **Q2.** Is the conversion rate (the proportion of users who visit the landing page and get converted) for the new page greater than the conversion rate for the old page?"
   ]
  },
  {
   "cell_type": "code",
   "execution_count": 22,
   "id": "d2112964-f3a7-4f17-be40-2ec14ddab66d",
   "metadata": {},
   "outputs": [
    {
     "data": {
      "image/png": "[encoded data removed]",
      "text/plain": [
       "<Figure size 432x288 with 1 Axes>"
      ]
     },
     "metadata": {
      "needs_background": "light"
     },
     "output_type": "display_data"
    }
   ],
   "source": [
    "# Create contingency table and graph\n",
    "Q2_contingency_table = pd.crosstab(df[\"converted\"], df[\"landing_page\"])\n",
    "Q2_contingency_table.plot(kind=\"bar\", stacked=True)\n",
    "plt.show()"
   ]
  },
  {
   "cell_type": "markdown",
   "id": "2a8d1380-c012-4a70-8241-3d2418fa1277",
   "metadata": {},
   "source": [
    "$H_0$: The null hypothesis is that the proportion of users that get converted to subscribers that visit the the new page, represented as $p_1$ is the same as the proportion of users that get converted to subscribers that visit the the old page, represented as $p_2$\n",
    "<center>$H_0$ : $p_1$  =  $p_2$</center>\n",
    "\n",
    "\n",
    "$H_a$: The alternate hypothesis is that the proportion of users that get converted to subscribers that visit the the new page, represented as $p_1$ is greater than the proportion of users that get converted to subscribers that visit the the old page, represented as $p_2$\n",
    "<center>$H_a$ : $p_1$ $\\gt$ $p_2$</center>"
   ]
  },
  {
   "cell_type": "markdown",
   "id": "c9c982eb-43f0-4d8c-9a65-19150a6c8a56",
   "metadata": {},
   "source": [
    "Knowns:\n",
    "* Univariate\n",
    "* Discrete\n",
    "* 2 Samples\n",
    "\n",
    "Following the flow chart, we can use a **Two Proportion Z-test**"
   ]
  },
  {
   "cell_type": "markdown",
   "id": "3c21e906-9654-47e0-8e80-b51017ca5a80",
   "metadata": {},
   "source": [
    "For this question, we use a level of significance of 5%"
   ]
  },
  {
   "cell_type": "code",
   "execution_count": 23,
   "id": "65803489-c97e-4d96-bd48-a7d8fd5ff2ce",
   "metadata": {},
   "outputs": [
    {
     "name": "stdout",
     "output_type": "stream",
     "text": [
      "Total New Page: 50 - New Page Converted: 33 | Total Old Page: 50 - Old Page Converted: 21\n"
     ]
    }
   ],
   "source": [
    "# Create new dataframes of treatment and control for counts. Needed later for p=value calculation and ensuring groups are larger than 10.\n",
    "df_new = df[df[\"group\"] == \"treatment\"]\n",
    "df_old = df[df[\"group\"] == \"control\"]\n",
    "\n",
    "new_converted = df[df[\"group\"] == \"treatment\"][\"converted\"].value_counts()[\"yes\"]\n",
    "old_converted = df[df[\"group\"] == \"control\"][\"converted\"].value_counts()[\"yes\"]\n",
    "\n",
    "print(\n",
    "    f\"Total New Page: {df_new.shape[0]} - New Page Converted: {new_converted} | Total Old Page: {df_old.shape[0]} - Old Page Converted: {old_converted}\"\n",
    ")"
   ]
  },
  {
   "cell_type": "markdown",
   "id": "32477e9a-0612-4469-a7d7-8f1cedd4e393",
   "metadata": {
    "tags": []
   },
   "source": [
    "**Observation:** All groups are greater than 10. "
   ]
  },
  {
   "cell_type": "code",
   "execution_count": 24,
   "id": "e0c13d07-0a70-41c8-b8ee-f61ada1830d4",
   "metadata": {},
   "outputs": [
    {
     "name": "stdout",
     "output_type": "stream",
     "text": [
      "p-value: 0.008026308204056278\n"
     ]
    }
   ],
   "source": [
    "from statsmodels.stats.proportion import proportions_ztest\n",
    "\n",
    "# Create set of lists for p-value calc\n",
    "converted = [new_converted, old_converted]\n",
    "total = [df_new.shape[0], df_old.shape[0]]\n",
    "\n",
    "test_stat, p_value = proportions_ztest(converted, total, alternative=\"larger\")\n",
    "\n",
    "print(\"p-value:\", p_value)"
   ]
  },
  {
   "cell_type": "markdown",
   "id": "288b1ef0-a0f5-43cc-951c-b480d36ce732",
   "metadata": {},
   "source": [
    "**Observation:** As the p-value (~0.008) is less than the level of significance, we can **reject** the null hypothesis. Hence, we do have enough evidence to support the claim that the conversion rate (the proportion of users who visit the landing page and get converted) for the new page greater than the conversion rate for the old page."
   ]
  },
  {
   "cell_type": "markdown",
   "id": "d49bfa2d",
   "metadata": {
    "id": "d49bfa2d"
   },
   "source": [
    "### **Q3.** Is the conversion and preferred language are independent or related?"
   ]
  },
  {
   "cell_type": "code",
   "execution_count": 25,
   "id": "b0e63f17",
   "metadata": {
    "id": "b0e63f17"
   },
   "outputs": [
    {
     "data": {
      "image/png": "[encoded data removed]",
      "text/plain": [
       "<Figure size 432x288 with 1 Axes>"
      ]
     },
     "metadata": {
      "needs_background": "light"
     },
     "output_type": "display_data"
    }
   ],
   "source": [
    "# Create contingency table and graph\n",
    "Q3_contingency_table = pd.crosstab(df[\"converted\"], df[\"language_preferred\"])\n",
    "Q3_contingency_table.plot(kind=\"bar\", stacked=True)\n",
    "plt.legend()\n",
    "plt.show()"
   ]
  },
  {
   "cell_type": "markdown",
   "id": "d8b4b11e-41f2-4eba-a51d-b0f7ce4fa05c",
   "metadata": {},
   "source": [
    "$H_0$: The null hypothesis is that conversion rate independent of language preferred.\n",
    "\n",
    "\n",
    "$H_a$: The alternate hypothesis is that conversion rate is dependent of language preferred."
   ]
  },
  {
   "cell_type": "markdown",
   "id": "82cfadc1-03ee-41e9-8d9c-15cca854e612",
   "metadata": {},
   "source": [
    "Knowns:\n",
    "* Bivariate\n",
    "* Both discrete\n",
    "\n",
    "Following the flow chart, we can use a **Chi Square test**"
   ]
  },
  {
   "cell_type": "markdown",
   "id": "db6382c5-c353-4601-9266-1ca3be179549",
   "metadata": {},
   "source": [
    "For this question, we use a level of significance of 5%"
   ]
  },
  {
   "cell_type": "code",
   "execution_count": 26,
   "id": "6a893795-e144-44e4-81b3-6e76721914df",
   "metadata": {},
   "outputs": [
    {
     "data": {
      "text/html": [
       "<div>\n",
       "<style scoped>\n",
       "    .dataframe tbody tr th:only-of-type {\n",
       "        vertical-align: middle;\n",
       "    }\n",
       "\n",
       "    .dataframe tbody tr th {\n",
       "        vertical-align: top;\n",
       "    }\n",
       "\n",
       "    .dataframe thead th {\n",
       "        text-align: right;\n",
       "    }\n",
       "</style>\n",
       "<table border=\"1\" class=\"dataframe\">\n",
       "  <thead>\n",
       "    <tr style=\"text-align: right;\">\n",
       "      <th>language_preferred</th>\n",
       "      <th>English</th>\n",
       "      <th>French</th>\n",
       "      <th>Spanish</th>\n",
       "    </tr>\n",
       "    <tr>\n",
       "      <th>converted</th>\n",
       "      <th></th>\n",
       "      <th></th>\n",
       "      <th></th>\n",
       "    </tr>\n",
       "  </thead>\n",
       "  <tbody>\n",
       "    <tr>\n",
       "      <th>no</th>\n",
       "      <td>11</td>\n",
       "      <td>19</td>\n",
       "      <td>16</td>\n",
       "    </tr>\n",
       "    <tr>\n",
       "      <th>yes</th>\n",
       "      <td>21</td>\n",
       "      <td>15</td>\n",
       "      <td>18</td>\n",
       "    </tr>\n",
       "  </tbody>\n",
       "</table>\n",
       "</div>"
      ],
      "text/plain": [
       "language_preferred  English  French  Spanish\n",
       "converted                                   \n",
       "no                       11      19       16\n",
       "yes                      21      15       18"
      ]
     },
     "execution_count": 26,
     "metadata": {},
     "output_type": "execute_result"
    }
   ],
   "source": [
    "# Data previously prepared for visual analysis.\n",
    "Q3_contingency_table"
   ]
  },
  {
   "cell_type": "code",
   "execution_count": 27,
   "id": "2c374478-32e5-4ba9-93a2-a295e364788a",
   "metadata": {},
   "outputs": [
    {
     "name": "stdout",
     "output_type": "stream",
     "text": [
      "p-value: 0.21298887487543447\n"
     ]
    }
   ],
   "source": [
    "from scipy.stats import chi2_contingency\n",
    "\n",
    "chi2, p_value, dof, exp_freq = chi2_contingency(Q3_contingency_table)\n",
    "print(\"p-value:\", p_value)"
   ]
  },
  {
   "cell_type": "markdown",
   "id": "96b0d560-26b4-42c3-9425-da2edfb61235",
   "metadata": {},
   "source": [
    "**Observation:** As the p-value (~0.2129) is greater than the level of significance, we **fail to reject** the null hypothesis. Hence, we do not have enough evidence to support the claim that the conversion rate and preferred language are related."
   ]
  },
  {
   "cell_type": "markdown",
   "id": "8d585a90",
   "metadata": {
    "id": "8d585a90"
   },
   "source": [
    "### **Q4.** Is the time spent on the new page same for the different language users?"
   ]
  },
  {
   "cell_type": "code",
   "execution_count": 28,
   "id": "b422f395",
   "metadata": {
    "id": "b422f395"
   },
   "outputs": [
    {
     "data": {
      "image/png": "[encoded data removed]",
      "text/plain": [
       "<Figure size 720x432 with 1 Axes>"
      ]
     },
     "metadata": {
      "needs_background": "light"
     },
     "output_type": "display_data"
    }
   ],
   "source": [
    "plt.figure(figsize=(10, 6))\n",
    "sns.boxplot(data=df_new, x=\"time_spent_on_the_page\", y=\"language_preferred\")\n",
    "plt.show()"
   ]
  },
  {
   "cell_type": "markdown",
   "id": "d5efbba9-5a0c-498f-b178-35053733dee5",
   "metadata": {},
   "source": [
    "$H_0$: The null hypothesis is that the population mean of time spent on the new page is the same for English (represented as $\\mu_1$), Spanish (represented as $\\mu_2$), and French (represented as $\\mu_3$)\n",
    "<center>$H_0$ : $\\mu_1$  =  $\\mu_2$ = $\\mu_3$</center>\n",
    "\n",
    "\n",
    "$H_a$: The alternate hypothesis is that is that at least one mean time spent on the new page is different than the rest."
   ]
  },
  {
   "cell_type": "markdown",
   "id": "e8b8089c-bf7e-40e2-bb17-418c1bb24be0",
   "metadata": {},
   "source": [
    "Knowns:\n",
    "* Univariate\n",
    "* Continuous and Normal\n",
    "* 2 Samples\n",
    "\n",
    "Following the flow chart, we can use a **One-way Anova F-Test (levene Test)**"
   ]
  },
  {
   "cell_type": "markdown",
   "id": "db977fa1-fee7-4fdf-9501-3858afcf5259",
   "metadata": {},
   "source": [
    "For this question, we'll use a level of significance of 5%"
   ]
  },
  {
   "cell_type": "code",
   "execution_count": 29,
   "id": "84cb1857-898f-43b7-8035-2c03b4dfd04f",
   "metadata": {},
   "outputs": [],
   "source": [
    "# Create dataframes required for p-value test\n",
    "English_time = df_new[df_new[\"language_preferred\"] == \"English\"][\n",
    "    \"time_spent_on_the_page\"\n",
    "]\n",
    "Spanish_time = df_new[df_new[\"language_preferred\"] == \"Spanish\"][\n",
    "    \"time_spent_on_the_page\"\n",
    "]\n",
    "French_time = df_new[df_new[\"language_preferred\"] == \"French\"][\"time_spent_on_the_page\"]"
   ]
  },
  {
   "cell_type": "code",
   "execution_count": 30,
   "id": "fd027de8-13a4-4902-a1b2-b241cb6c838e",
   "metadata": {},
   "outputs": [
    {
     "name": "stdout",
     "output_type": "stream",
     "text": [
      "p-value: 0.46711357711340173\n"
     ]
    }
   ],
   "source": [
    "from scipy.stats import levene\n",
    "\n",
    "test_stat, p_value = levene(English_time, Spanish_time, French_time)\n",
    "\n",
    "print(\"p-value:\", p_value)"
   ]
  },
  {
   "cell_type": "markdown",
   "id": "b716fdc3-f929-4313-9b0d-8a432d8f1a90",
   "metadata": {},
   "source": [
    "**Observation:** As the p-value (~0.467) is greater than the level of significance, we **fail to reject** the null hypothesis. Hence, we do not have enough evidence to support the claim that mean time spent on the new page is different, for different language users."
   ]
  },
  {
   "cell_type": "markdown",
   "id": "3acbc947",
   "metadata": {
    "id": "3acbc947"
   },
   "source": [
    "## Conclusion and Business Recommendations"
   ]
  },
  {
   "cell_type": "markdown",
   "id": "de305a3a-bffb-407a-ae1a-a8c7c850603b",
   "metadata": {},
   "source": [
    "### **Conclusion** ###\n",
    "\n",
    "The results of the A/B Test show that the new landing page redesign was successful, as we were able to **reject** the null hypothesis for questions #1 and #2 and **fail to reject** the null hypothesis for questions #3 and #4:\n",
    "\n",
    "1. Do the users spend more time on the new landing page than on the existing landing page? **Yes**\n",
    "2. Is the conversion rate (the proportion of users who visit the landing page and get converted) for the new page greater than the conversion rate for the old page? **Yes**\n",
    "3. Does the converted status depend on the preferred language? **No**\n",
    "4. Is the time spent on the new page the same for the different language users? **The same**\n",
    "\n",
    "### **Business Recommendations** ###\n",
    "\n",
    "Moving forward, based results on A/B testing, my recommendation to E-News Express would be to explore ways to increase time spent on the landing page. We've proven that language does not play a part in conversion rate, however, we do a see a relationship in the new page increasing time spent on the landing page, and an increase in conversion rate for the new page, therefore **we can infer that increasing time spent on the landing page can lead to increased subscriber conversion**."
   ]
  },
  {
   "cell_type": "markdown",
   "id": "U0dAd4i0iCHo",
   "metadata": {
    "id": "U0dAd4i0iCHo"
   },
   "source": [
    "___"
   ]
  }
 ],
 "metadata": {
  "colab": {
   "collapsed_sections": [
    "a6a3d218",
    "6970dd99",
    "9d75cfa2",
    "68f3b2c9",
    "fad2de2f",
    "27906576",
    "e5fdf0c8",
    "56b3dafd",
    "c7ee4907",
    "3f58c9a7",
    "5fed2eac",
    "f5c5258d",
    "359b12f8",
    "d9affc84",
    "353e9d24",
    "d49bfa2d",
    "8d585a90",
    "3acbc947"
   ],
   "name": "ENews_Express_Learner_Notebook_Full_Code v1.1.ipynb",
   "provenance": []
  },
  "kernelspec": {
   "display_name": "Python 3 (ipykernel)",
   "language": "python",
   "name": "python3"
  },
  "language_info": {
   "codemirror_mode": {
    "name": "ipython",
    "version": 3
   },
   "file_extension": ".py",
   "mimetype": "text/x-python",
   "name": "python",
   "nbconvert_exporter": "python",
   "pygments_lexer": "ipython3",
   "version": "3.9.12"
  }
 },
 "nbformat": 4,
 "nbformat_minor": 5
}
